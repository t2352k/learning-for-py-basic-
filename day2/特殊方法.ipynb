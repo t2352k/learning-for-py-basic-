{
 "cells": [
  {
   "cell_type": "markdown",
   "metadata": {},
   "source": [
    "# 1. 特殊方法的简明解释\n",
    "    \n",
    "    -定义：特殊方法（Magic Methods/Dunder Methods）是以双下划线 __ 开头和结尾的方法（如 __init__、__str__），用于定义类的内置行为。\n",
    "    \n",
    "    -用途：\n",
    "        -控制对象的初始化（__init__）、字符串表示（__str__）、运算（如 __add__）等。\n",
    "        -让类的行为更符合 Python 的内置类型（如列表、字典）。\n",
    "    \n",
    "    -常见使用场景：\n",
    "        -初始化对象属性（__init__）。\n",
    "        -自定义对象的字符串输出（__str__）。\n",
    "        -实现运算符重载（如 +、==）。\n",
    "\n",
    "# 2. 代码示例\n",
    "\n",
    "```python\n",
    "class Person:\n",
    "    def __init__(self, name, age):\n",
    "        self.name = name\n",
    "        self.age = age\n",
    "\n",
    "    def __str__(self):\n",
    "        return f\"Person: {self.name}, {self.age}岁\"\n",
    "\n",
    "    def __eq__(self, other):\n",
    "        return self.name == other.name and self.age == other.age\n",
    "\n",
    "p1 = Person(\"Alice\", 25)\n",
    "p2 = Person(\"Alice\", 25)\n",
    "print(p1)       # 输出：Person: Alice, 25岁\n",
    "print(p1 == p2) # 输出：True\n",
    "```\n",
    "# 3. 初学者的常见错误与解决方法\n",
    "\n",
    "    -错误1：忘记在方法中写 self 参数\n",
    "        -问题：在定义 __init__ 或其他方法时，漏写 self 导致实例无法正确绑定属性。\n",
    "        -解决：始终将 self 作为第一个参数。\n",
    "\n",
    "    -错误2：混淆 __str__ 和 __repr__\n",
    "        -问题：误以为 __str__ 是唯一的字符串表示方法，忽略 __repr__ 的调试用途。\n",
    "        -解决：\n",
    "            __str__ 用于用户友好的输出（如 print(obj)）。\n",
    "            __repr__ 用于开发者调试（如直接输出 obj,*在add watch时有用*）。\n",
    "\n",
    "    -错误3：直接在 __init__ 外修改不可变属性\n",
    "        -问题：尝试在类外部直接修改未暴露的属性。\n",
    "        -解决：通过方法或属性装饰器（@property）控制属性的访问和修改。\n",
    "\n",
    "# 4. 实际应用场景\n",
    "    -场景1：游戏角色管理\n",
    "\n",
    "        -使用 __init__ 初始化角色的生命值和攻击力，__str__ 显示角色状态。\n",
    "\n",
    "```python\n",
    "class GameCharacter:\n",
    "    def __init__(self, name, health=100):\n",
    "        self.name = name\n",
    "        self.health = health\n",
    "\n",
    "    def __str__(self):\n",
    "        return f\"{self.name} (生命值: {self.health})\"\n",
    "\n",
    "character = GameCharacter(\"战士\")\n",
    "print(character)  # 输出：战士 (生命值: 100)\n",
    "```\n",
    "\n",
    "    -场景2：电商商品比较\n",
    "\n",
    "        -使用 __eq__ 和 __lt__ 实现商品价格比较。\n",
    "\n",
    "```python\n",
    "    class Product:\n",
    "        def __init__(self, name, price):\n",
    "            self.name = name\n",
    "            self.price = price\n",
    "\n",
    "        def __lt__(self, other):\n",
    "            return self.price < other.price\n",
    "\n",
    "p1 = Product(\"鼠标\", 50)\n",
    "p2 = Product(\"键盘\", 80)\n",
    "print(p1 < p2)  # 输出：True\n",
    "```"
   ]
  },
  {
   "cell_type": "markdown",
   "metadata": {},
   "source": [
    "# 5. 练习题\n",
    "题目1（入门）\n",
    "创建一个 Book 类，包含 title 和 author 属性，并在 __init__ 中初始化它们。添加 __str__ 方法，输出格式：《书名》- 作者。\n",
    "\n",
    "题目2（中级）\n",
    "实现一个 BankAccount 类，包含 balance 属性。\n",
    "使用 __init__ 初始化余额。\n",
    "定义 __eq__ 方法，比较两个账户的余额是否相等。\n",
    "\n",
    "题目3（进阶）\n",
    "设计一个 Vector 类表示二维向量，支持 + 运算（通过 __add__ 方法）。例如：\n",
    "Vector(1, 2) + Vector(3, 4) 返回 Vector(4, 6)。\n",
    "\n",
    "# 6.发人深省的问题\n",
    "如果 __init__ 方法被设计为接受动态参数（如 *args 或 **kwargs），如何确保子类在继承时能够正确扩展父类的初始化逻辑，而不会破坏原有功能？\n",
    "（提示：思考 super().__init__() 的作用和参数传递的兼容性。）"
   ]
  },
  {
   "cell_type": "code",
   "execution_count": 1,
   "metadata": {},
   "outputs": [
    {
     "name": "stdout",
     "output_type": "stream",
     "text": [
      "《Python编程：从入门到实践》- Eric Matthes\n"
     ]
    }
   ],
   "source": [
    "class Book:\n",
    "    def __init__(self, title: str, author: str):\n",
    "        self.title = title\n",
    "        self.author = author\n",
    "\n",
    "    def __str__(self) -> str:\n",
    "        return f\"《{self.title}》- {self.author}\"\n",
    "\n",
    "# 测试代码\n",
    "book = Book(\"Python编程：从入门到实践\", \"Eric Matthes\")\n",
    "print(book)  # 输出：《Python编程：从入门到实践》- Eric Matthes\n"
   ]
  },
  {
   "cell_type": "code",
   "execution_count": 2,
   "metadata": {},
   "outputs": [
    {
     "name": "stdout",
     "output_type": "stream",
     "text": [
      "True\n",
      "False\n",
      "False\n"
     ]
    }
   ],
   "source": [
    "class BankAccount:\n",
    "    def __init__(self, balance: float = 0.0):\n",
    "        self.balance = balance\n",
    "\n",
    "    def __eq__(self, other: object) -> bool:\n",
    "        if not isinstance(other, BankAccount):\n",
    "            return False\n",
    "        return self.balance == other.balance\n",
    "\n",
    "# 测试代码\n",
    "account1 = BankAccount(100.0)\n",
    "account2 = BankAccount(100.0)\n",
    "account3 = BankAccount(200.0)\n",
    "print(account1 == account2)  # 输出：True\n",
    "print(account1 == account3)  # 输出：False\n",
    "print(account1 == 100.0)     # 输出：False（类型不同）\n"
   ]
  },
  {
   "cell_type": "code",
   "execution_count": null,
   "metadata": {},
   "outputs": [
    {
     "name": "stdout",
     "output_type": "stream",
     "text": [
      "(4, 6)\n"
     ]
    }
   ],
   "source": [
    "class Vector:\n",
    "    def __init__(self, x: float, y: float):\n",
    "        self.x = x\n",
    "        self.y = y\n",
    "\n",
    "    def __add__(self, other: \"Vector\") -> \"Vector\":\n",
    "        if not isinstance(other, Vector):\n",
    "            raise TypeError(\"只能与 Vector 实例相加\")\n",
    "        return Vector(self.x + other.x, self.y + other.y)\n",
    "\n",
    "    def __repr__(self) :\n",
    "        return f\"Vector({self.x}, {self.y})\"\n",
    "    def __str__(self) -> str:\n",
    "        return f\"({self.x}, {self.y})\"\n",
    "\n",
    "# 测试代码\n",
    "v1 = Vector(1, 2)\n",
    "v2 = Vector(3, 4)\n",
    "v3 = v1 + v2\n",
    "v3\n",
    "print(v3)  # 输出：(4, 6)\n"
   ]
  }
 ],
 "metadata": {
  "kernelspec": {
   "display_name": "base",
   "language": "python",
   "name": "python3"
  },
  "language_info": {
   "codemirror_mode": {
    "name": "ipython",
    "version": 3
   },
   "file_extension": ".py",
   "mimetype": "text/x-python",
   "name": "python",
   "nbconvert_exporter": "python",
   "pygments_lexer": "ipython3",
   "version": "3.11.5"
  }
 },
 "nbformat": 4,
 "nbformat_minor": 2
}
