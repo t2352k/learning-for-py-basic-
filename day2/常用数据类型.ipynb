{
 "cells": [
  {
   "cell_type": "markdown",
   "metadata": {},
   "source": [
    "# 1. 简明解释与使用场景\n",
    "## 列表（List）\n",
    "用途：有序、可变的元素集合，支持动态增删改查。\n",
    "场景：存储临时数据（如用户输入）、批量处理元素（如循环遍历）、需要频繁修改的序列。\n",
    "## 元组（Tuple）\n",
    "用途：有序、不可变的元素集合，保证数据完整性。\n",
    "场景：固定配置（如坐标 (x, y)）、函数返回多个值、字典的键（需不可变）。\n",
    "## 字典（Dictionary）\n",
    "用途：键值对（Key-Value）的无序集合，支持快速查找。\n",
    "场景：缓存数据（如 {\"user_id\": \"name\"}）、配置参数、JSON 数据解析。\n",
    "## 集合（Set）\n",
    "用途：无序、唯一元素的集合，支持集合运算（并集、交集）。\n",
    "场景：去重（如统计唯一 IP）、检查成员存在性（比列表更快）、关系运算（如共同好友）。"
   ]
  },
  {
   "cell_type": "markdown",
   "metadata": {},
   "source": [
    "# 2. 代码示例\n"
   ]
  },
  {
   "cell_type": "code",
   "execution_count": null,
   "metadata": {},
   "outputs": [],
   "source": [
    "## 列表\n",
    "# 增删改查\n",
    "fruits = [\"apple\", \"banana\"]\n",
    "fruits.append(\"orange\")       # 增\n",
    "fruits.remove(\"banana\")       # 删\n",
    "fruits = \"kiwi\"            # 改\n",
    "print(fruits)              # 查"
   ]
  },
  {
   "cell_type": "code",
   "execution_count": null,
   "metadata": {},
   "outputs": [],
   "source": [
    "## 元组\n",
    "# 元组与列表类似，不同之处在于元组的元素不能修改，使用小括号。\n",
    "#和链表类似可以使用+拼接，*复制\n",
    "point = (3, 5)\n",
    "#point[1]=4 # 报错！元组不可修改\n",
    "point = 4   #不报错，point引用到整数4 \n"
   ]
  },
  {
   "cell_type": "code",
   "execution_count": null,
   "metadata": {},
   "outputs": [],
   "source": [
    "##字典\n",
    "#字典的每个键值 key:value 对用冒号 : 分割，每个键值对之间用逗号 , 分割，整个字典包括在花括号\n",
    "user = {\"name\": \"Alice\", \"age\": 25}\n",
    "print(user.get(\"name\", \"Unknown\"))  # 安全获取\n",
    "user[\"city\"] = \"Berlin\"             # 新增键"
   ]
  },
  {
   "cell_type": "code",
   "execution_count": null,
   "metadata": {},
   "outputs": [],
   "source": [
    "##集合\n",
    "# 去重与运算\n",
    "a = {1, 2, 3}\n",
    "b = {3, 4, 5}\n",
    "print(a | b)  # 并集: {1,2,3,4,5}"
   ]
  },
  {
   "cell_type": "markdown",
   "metadata": {},
   "source": [
    "# 3. 常见错误与避免方法\n",
    "\n",
    "## 错误1：误用列表推导式导致低效\n",
    "问题：在列表推导式中执行复杂操作（如调用函数），降低可读性。\n",
    "解决：优先使用简单循环，复杂逻辑拆分为多行。\n",
    "## 错误2：尝试修改元组\n",
    "问题：误以为元组元素可修改（如 tuple = 1）。\n",
    "解决：明确元组用于保护数据，需修改时转换为列表。\n",
    "## 错误3：字典键使用可变对象\n",
    "问题：用列表作为字典键（如 d[[1,2]] = 3）导致报错。\n",
    "解决：键必须是不可变类型（如字符串、数字、元组）。\n",
    "## 错误4：混淆集合与列表的去重逻辑\n",
    "问题：用列表循环去重（低效），而非直接转集合。\n",
    "解决：使用 list(set(my_list)) 快速去重（但会丢失顺序）"
   ]
  },
  {
   "cell_type": "markdown",
   "metadata": {},
   "source": [
    "# 4. 实际应用场景\n",
    "\n",
    "## 场景1：数据分析中的去重统计\n",
    "集合：快速统计日志中唯一访问用户的 IP 地址。\n",
    "```python\n",
    "ips = [\"192.168.1.1\", \"192.168.1.1\", \"10.0.0.1\"]\n",
    "unique_ips = set(ips)  # {\"192.168.1.1\", \"10.0.0.1\"}\n",
    "```\n",
    "\n",
    "# 场景2：缓存系统实现\n",
    "## 字典：存储计算结果避免重复计算（如斐波那契数列）。\n",
    "```python\n",
    "cache = {}\n",
    "def fib(n):\n",
    "    if n in cache: return cache[n]\n",
    "    if n <= 1: return n\n",
    "    cache[n] = fib(n-1) + fib(n-2)\n",
    "    return cache[n]\n",
    "```\n"
   ]
  },
  {
   "cell_type": "markdown",
   "metadata": {},
   "source": [
    "# 5. 练习题\n",
    "## 基础：统计一段文本中每个单词的出现次数（使用字典）。\n",
    "## 应用：给定一个列表，找出所有重复的元素（使用集合）。\n",
    "## 综合：实现一个简单的待办事项管理系统，支持添加、删除、标记完成（使用列表和字典组合）。"
   ]
  },
  {
   "cell_type": "code",
   "execution_count": null,
   "metadata": {},
   "outputs": [],
   "source": [
    "def main():#分割单词的函数，每有新的word(key)存入字典\n",
    "    sentence=\"English means belonging or relating to England, or to its people or language. It is also often used to mean belonging or relating to Great Britain, although many people object to this. \"\n",
    "    words=sentence.split()\n",
    "    dic=dict()\n",
    "    for word in words:\n",
    "        if word not in dic:\n",
    "            dic[word]=1\n",
    "        else:\n",
    "            dic[word]+=1\n",
    "    for k,v in dic.items():\n",
    "        print(f\"有{v}个{k}在句子中\") \n",
    "if __name__==\"__main__\":\n",
    "    main()"
   ]
  },
  {
   "cell_type": "code",
   "execution_count": null,
   "metadata": {},
   "outputs": [],
   "source": [
    "def main():\n",
    "    lst=[3, 5, 2, 3, 7, 5, 5, 8]\n",
    "    seen=set()\n",
    "    repeat=set()\n",
    "    for num in lst:\n",
    "        if num not in seen:\n",
    "            seen.add(num)\n",
    "        else:\n",
    "            repeat.add(num)\n",
    "    return print(list(repeat))\n",
    "if __name__==\"__main__\":\n",
    "    main()"
   ]
  },
  {
   "cell_type": "code",
   "execution_count": null,
   "metadata": {},
   "outputs": [],
   "source": [
    "class TodoList:#通过字典存多个信息，类似c++的struct\n",
    "    def __init__(self):\n",
    "        self.task=[]\n",
    "        self.id=1\n",
    "    \n",
    "    def add_task(self,todo):\n",
    "        new_task={\n",
    "            \"id\":self.id,\n",
    "            \"description\":todo,\n",
    "            \"completed\":False\n",
    "        }\n",
    "        self.task.append(new_task)\n",
    "        self.id+=1\n",
    "        print(f\"任务[{self.id-1}]:{todo}已添加至列表\")\n",
    "\n",
    "    def delete_task(self,de_id):\n",
    "        len_task=len(self.task)\n",
    "        self.task=[task for task in self.task if task[\"id\"]!=de_id]\n",
    "        if len(self.task)<len_task:\n",
    "            print(f\"任务[{de_id}已删除]\")\n",
    "        else:\n",
    "            print(f\"未找到任务[{de_id}]\")\n",
    "    \n",
    "    def completed(self,task_id):\n",
    "        for task in self.task:\n",
    "            if task[\"id\"]==task_id:\n",
    "                task[\"completed\"]=True\n",
    "                print(f\"任务[{task_id}]标记为已完成\")\n",
    "                return\n",
    "        print(f\"未找到任务\")\n",
    "    \n",
    "    def show_task(self):\n",
    "        if not self.task:\n",
    "            print(\"当前没有待办事项\")\n",
    "            return\n",
    "        print(\"\\n待办事项列表：\")\n",
    "        for task in self.task:\n",
    "            status=\"√\" if task[\"completed\"] else \"□\"\n",
    "            print(f\"{task['id']}.[{status}{task['description']}]\")\n",
    "\n",
    "if __name__ == \"__main__\":\n",
    "    todo = TodoList()\n",
    "    \n",
    "    # 添加任务\n",
    "    todo.add_task(\"购买食材\")  # 任务  已添加\n",
    "    todo.add_task(\"完成项目报告\")  # 任务  已添加\n",
    "    todo.add_task(\"健身30分钟\")  # 任务  已添加\n",
    "    \n",
    "    # 显示任务\n",
    "    todo.show_task()\n",
    "\n",
    "              \n",
    "            \n"
   ]
  },
  {
   "cell_type": "markdown",
   "metadata": {},
   "source": [
    "# 6.思考题\n",
    "\n",
    "“在实现一个需要高频读写和线程安全的数据缓存时，你会如何选择数据结构？为什么字典的快速查找特性可能成为瓶颈？如果数据量极大，如何结合其他数据结构（如链表或树）优化性能？”\n",
    "\n",
    "（通过这个问题，思考数据结构的选择如何影响程序的扩展性、性能和可维护性。）\n",
    "\n",
    "哈希冲突：当哈希表负载因子高时，冲突链变长，查找退化为 O(n)；扩容开销：字典扩容时需重建哈希表，导致短暂性能下降；GIL 竞争：高并发下多线程争抢 GIL，即使操作字典也会因串行化降低吞吐量。\n",
    "\n",
    "优化：分散到多个子字典，减少竞争；运用堆或双向链表"
   ]
  }
 ],
 "metadata": {
  "kernelspec": {
   "display_name": "base",
   "language": "python",
   "name": "python3"
  },
  "language_info": {
   "codemirror_mode": {
    "name": "ipython",
    "version": 3
   },
   "file_extension": ".py",
   "mimetype": "text/x-python",
   "name": "python",
   "nbconvert_exporter": "python",
   "pygments_lexer": "ipython3",
   "version": "3.11.5"
  }
 },
 "nbformat": 4,
 "nbformat_minor": 2
}
