{
 "cells": [
  {
   "cell_type": "markdown",
   "metadata": {},
   "source": [
    "# 一、Python文件读写操作简明解释\n",
    "    用途：通过open()函数打开文件，read()读取内容，write()写入数据，实现持久化存储或处理外部数据。\n",
    "    常见场景：读取配置文件、保存用户数据、日志记录、批量处理文本/二进制文件（如图像）\n",
    "\n",
    "    input.strip() 获取输入，并且去除字符串前后的空白字符\n",
    "# 二、简单代码示例\n",
    "\n",
    "    # 示例1：读取文件内容\n",
    "    with open(\"test.txt\", \"r\") as f:\n",
    "        content = f.read()\n",
    "        print(content)\n",
    "\n",
    "    # 示例2：写入新文件（覆盖模式）\n",
    "    with open(\"output.txt\", \"w\") as f:\n",
    "        f.write(\"Hello, World!\\n\")\n",
    "\n",
    "    # 示例3：追加内容到文件\n",
    "    with open(\"output.txt\", \"a\") as f:\n",
    "        f.write(\"Appended line.\")\n",
    "    \n",
    "# 三、常见错误与避免方法\n",
    "    -未关闭文件导致资源泄漏\n",
    "        错误：f = open(\"file.txt\")后忘记f.close()。\n",
    "        解决：使用with open(...) as f自动关闭文件。\n",
    "\n",
    "    -模式混淆（如误用’w’覆盖文件）\n",
    "        错误：用写入模式'w'打开已存在文件，导致原内容丢失。\n",
    "        解决：确认模式需求（'a'追加，'r+'读写）。\n",
    "\n",
    "    -忽略编码或换行符\n",
    "        错误：读取文本时未处理\\n，或二进制文件未用'rb'模式。\n",
    "        解决：用.strip()去除换行符，明确指定encoding=\"utf-8\"\n",
    "\n",
    "#   四、实际应用场景\n",
    "\n",
    "日志记录：程序运行时将错误信息追加到日志文件（如app.log）。\n",
    "\n",
    "数据导出：将数据库查询结果写入CSV文件供Excel分析\n",
    "\n",
    "# 五、练习题（难度递进）\n",
    "初级：读取一个文本文件，统计其中包含单词\"Python\"的行数。\n",
    "中级：将用户输入的姓名和年龄追加到users.csv文件，格式为姓名,年龄。\n",
    "高级：合并两个日志文件（log1.txt和log2.txt），按时间排序后写入新文件。\n",
    "\n",
    "# 6.思考题\n",
    "如果文件大小超过内存容量（如10GB），如何高效逐行处理并过滤出特定内容？"
   ]
  },
  {
   "cell_type": "code",
   "execution_count": null,
   "metadata": {},
   "outputs": [],
   "source": [
    "#初级\n",
    "with open(\"day2.txt\", \"r\") as f:\n",
    "    content = f.read()\n",
    "    print(content)\n",
    "    print(\"_______________\")\n",
    "    print(content.split(\"\\n\"))\n",
    "    print(sum( 1 for word in content.split(\"\\n\") if \"PYTHON\" in word.upper() ))"
   ]
  },
  {
   "cell_type": "code",
   "execution_count": null,
   "metadata": {},
   "outputs": [],
   "source": [
    "with open(\"day2.txt\",\"r\") as f:\n",
    "    line_count=sum(1 for line in f if \"PYTHON\" in line.upper()) #直接使用比content = f.read()更高效\n",
    "    print(line_count)"
   ]
  },
  {
   "cell_type": "code",
   "execution_count": 5,
   "metadata": {},
   "outputs": [],
   "source": [
    "#中级\n",
    "import csv\n",
    "with open(\"users.csv\",\"a\",newline='',encoding=\"utf-8-sig\") as f:\n",
    "    name=input(\"请输入姓名\")\n",
    "    age=input(\"请输入年龄\")\n",
    "    writer=csv.writer(f)\n",
    "    writer.writerow([name,age])\n"
   ]
  },
  {
   "cell_type": "code",
   "execution_count": 7,
   "metadata": {},
   "outputs": [
    {
     "ename": "FileNotFoundError",
     "evalue": "[Errno 2] No such file or directory: 'log1.txt'",
     "output_type": "error",
     "traceback": [
      "\u001b[1;31m---------------------------------------------------------------------------\u001b[0m",
      "\u001b[1;31mFileNotFoundError\u001b[0m                         Traceback (most recent call last)",
      "Cell \u001b[1;32mIn[7], line 26\u001b[0m\n\u001b[0;32m     23\u001b[0m         outfile\u001b[38;5;241m.\u001b[39mwritelines(all_lines)\n\u001b[0;32m     25\u001b[0m \u001b[38;5;66;03m# 用法\u001b[39;00m\n\u001b[1;32m---> 26\u001b[0m merge_sorted_logs(\u001b[38;5;124m'\u001b[39m\u001b[38;5;124mlog1.txt\u001b[39m\u001b[38;5;124m'\u001b[39m, \u001b[38;5;124m'\u001b[39m\u001b[38;5;124mlog2.txt\u001b[39m\u001b[38;5;124m'\u001b[39m, \u001b[38;5;124m'\u001b[39m\u001b[38;5;124msorted_merged_logs.txt\u001b[39m\u001b[38;5;124m'\u001b[39m)\n",
      "Cell \u001b[1;32mIn[7], line 12\u001b[0m, in \u001b[0;36mmerge_sorted_logs\u001b[1;34m(file1, file2, output_file)\u001b[0m\n\u001b[0;32m     10\u001b[0m \u001b[38;5;28;01mdef\u001b[39;00m \u001b[38;5;21mmerge_sorted_logs\u001b[39m(file1, file2, output_file):\n\u001b[0;32m     11\u001b[0m     \u001b[38;5;66;03m# 读取并合并日志\u001b[39;00m\n\u001b[1;32m---> 12\u001b[0m     \u001b[38;5;28;01mwith\u001b[39;00m \u001b[38;5;28mopen\u001b[39m(file1, \u001b[38;5;124m'\u001b[39m\u001b[38;5;124mr\u001b[39m\u001b[38;5;124m'\u001b[39m, encoding\u001b[38;5;241m=\u001b[39m\u001b[38;5;124m'\u001b[39m\u001b[38;5;124mutf-8\u001b[39m\u001b[38;5;124m'\u001b[39m) \u001b[38;5;28;01mas\u001b[39;00m f1, \\\n\u001b[0;32m     13\u001b[0m          \u001b[38;5;28mopen\u001b[39m(file2, \u001b[38;5;124m'\u001b[39m\u001b[38;5;124mr\u001b[39m\u001b[38;5;124m'\u001b[39m, encoding\u001b[38;5;241m=\u001b[39m\u001b[38;5;124m'\u001b[39m\u001b[38;5;124mutf-8\u001b[39m\u001b[38;5;124m'\u001b[39m) \u001b[38;5;28;01mas\u001b[39;00m f2:\n\u001b[0;32m     14\u001b[0m         \n\u001b[0;32m     15\u001b[0m         \u001b[38;5;66;03m# 合并所有行并排序\u001b[39;00m\n\u001b[0;32m     16\u001b[0m         all_lines \u001b[38;5;241m=\u001b[39m []\n\u001b[0;32m     17\u001b[0m         all_lines\u001b[38;5;241m.\u001b[39mextend(f1\u001b[38;5;241m.\u001b[39mreadlines())\n",
      "File \u001b[1;32me:\\anac\\Anaconda3\\Lib\\site-packages\\IPython\\core\\interactiveshell.py:310\u001b[0m, in \u001b[0;36m_modified_open\u001b[1;34m(file, *args, **kwargs)\u001b[0m\n\u001b[0;32m    303\u001b[0m \u001b[38;5;28;01mif\u001b[39;00m file \u001b[38;5;129;01min\u001b[39;00m {\u001b[38;5;241m0\u001b[39m, \u001b[38;5;241m1\u001b[39m, \u001b[38;5;241m2\u001b[39m}:\n\u001b[0;32m    304\u001b[0m     \u001b[38;5;28;01mraise\u001b[39;00m \u001b[38;5;167;01mValueError\u001b[39;00m(\n\u001b[0;32m    305\u001b[0m         \u001b[38;5;124mf\u001b[39m\u001b[38;5;124m\"\u001b[39m\u001b[38;5;124mIPython won\u001b[39m\u001b[38;5;124m'\u001b[39m\u001b[38;5;124mt let you open fd=\u001b[39m\u001b[38;5;132;01m{\u001b[39;00mfile\u001b[38;5;132;01m}\u001b[39;00m\u001b[38;5;124m by default \u001b[39m\u001b[38;5;124m\"\u001b[39m\n\u001b[0;32m    306\u001b[0m         \u001b[38;5;124m\"\u001b[39m\u001b[38;5;124mas it is likely to crash IPython. If you know what you are doing, \u001b[39m\u001b[38;5;124m\"\u001b[39m\n\u001b[0;32m    307\u001b[0m         \u001b[38;5;124m\"\u001b[39m\u001b[38;5;124myou can use builtins\u001b[39m\u001b[38;5;124m'\u001b[39m\u001b[38;5;124m open.\u001b[39m\u001b[38;5;124m\"\u001b[39m\n\u001b[0;32m    308\u001b[0m     )\n\u001b[1;32m--> 310\u001b[0m \u001b[38;5;28;01mreturn\u001b[39;00m io_open(file, \u001b[38;5;241m*\u001b[39margs, \u001b[38;5;241m*\u001b[39m\u001b[38;5;241m*\u001b[39mkwargs)\n",
      "\u001b[1;31mFileNotFoundError\u001b[0m: [Errno 2] No such file or directory: 'log1.txt'"
     ]
    }
   ],
   "source": [
    "from datetime import datetime\n",
    "\n",
    "def timestamp_extractor(line):\n",
    "    \"\"\"提取时间戳（根据实际日志格式修改）\"\"\"\n",
    "    try:\n",
    "        return datetime.strptime(line[:19], '%Y-%m-%d %H:%M:%S')\n",
    "    except:\n",
    "        return datetime.min  # 无效行放到最前面\n",
    "\n",
    "def merge_sorted_logs(file1, file2, output_file):\n",
    "    # 读取并合并日志\n",
    "    with open(file1, 'r', encoding='utf-8') as f1, \\\n",
    "         open(file2, 'r', encoding='utf-8') as f2:\n",
    "        \n",
    "        # 合并所有行并排序\n",
    "        all_lines = []\n",
    "        all_lines.extend(f1.readlines())\n",
    "        all_lines.extend(f2.readlines())\n",
    "        all_lines.sort(key=timestamp_extractor)\n",
    "\n",
    "    # 写入新文件\n",
    "    with open(output_file, 'w', encoding='utf-8') as outfile:\n",
    "        outfile.writelines(all_lines)\n",
    "\n",
    "# 用法\n",
    "merge_sorted_logs('log1.txt', 'log2.txt', 'sorted_merged_logs.txt')"
   ]
  }
 ],
 "metadata": {
  "kernelspec": {
   "display_name": "base",
   "language": "python",
   "name": "python3"
  },
  "language_info": {
   "codemirror_mode": {
    "name": "ipython",
    "version": 3
   },
   "file_extension": ".py",
   "mimetype": "text/x-python",
   "name": "python",
   "nbconvert_exporter": "python",
   "pygments_lexer": "ipython3",
   "version": "3.11.5"
  }
 },
 "nbformat": 4,
 "nbformat_minor": 2
}
