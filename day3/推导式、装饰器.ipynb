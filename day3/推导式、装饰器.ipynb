{
 "cells": [
  {
   "cell_type": "markdown",
   "metadata": {},
   "source": [
    "# 1.导入\n",
    "    在编程时我们常常会遇到通过某些条件筛选目标的情况，每次都要写几句for和if总会觉得麻烦。这时候需要用到推导式\n",
    "\n",
    "    *它可以从一个数据序列构建另一个新的数据序列的结构体。可以用于生成列表字典集合和生成器\n"
   ]
  },
  {
   "cell_type": "markdown",
   "metadata": {},
   "source": [
    "# 2.各数据结构的推导式\n",
    "\n",
    "    2.1 列表：[out_exp_rea for out_exp in list (if condition)]\n",
    "        例：\n",
    "```python\n",
    "        names = ['Bob','Tom','alice','Jerry','Wendy','Smith']\n",
    "        new_names = [name.upper() for name in names if len(name)>3]\n",
    "        print(new_names)    #预期输出['ALICE', 'JERRY', 'WENDY', 'SMITH']\n",
    "```     \n",
    "        out_exp_rea 对应name.upper() 是列表生成元素表达式，可以是有返回值的函数\n",
    "        for out_exp in list对应for name in names迭代将列表中的元素out_exp传入到out_exp_res中\n",
    "        if condition 用于筛选满足条件的元素\n",
    "    \n",
    "    2.2 字典：{ key_expr: value_expr for value in collection (if condition) }\n",
    "        例：\n",
    "```python\n",
    "        listdemo = ['Google','Runoob', 'Taobao']\n",
    "        # 将列表中各字符串值为键，各字符串的长度为值，组成键值对\n",
    "        newdict = {key:len(key) for key in listdemo}\n",
    "        newdict#{'Google': 6, 'Runoob': 6, 'Taobao': 6}\n",
    "\n",
    "        dic = {x: x**2 for x in (2, 4, 6)}\n",
    "        dic #{2: 4, 4: 16, 6: 36}\n",
    "        type(dic)#<class 'dict'>\n",
    "```\n",
    "\n",
    "    2.3 集合：{ expression for item in Sequence if conditional }\n",
    "        例：\n",
    "```python\n",
    "        setnew = {i**2 for i in (1,2,3)}\n",
    "        setnew #{1, 4, 9}\n",
    "\n",
    "        a = {x for x in 'abracadabra' if x not in 'abc'}\n",
    "        a#{'d', 'r'}\n",
    "        type(a)#<class 'set'>\n",
    "```"
   ]
  },
  {
   "cell_type": "markdown",
   "metadata": {},
   "source": [
    "# 3.Python装饰器\n",
    "\n",
    "    # 3.1基本语法\n",
    "\n",
    "        允许在不修改原有函数代码的基础上动态地增加或修改函数的功能，装饰器本质上是一个接受函数作为输入并返回一个新的包装过后的函数的对象。\n",
    "\n",
    "        用途 ：装饰器主要用于增强函数的功能，如日志记录、性能测试、缓存、权限验证等。\n",
    "        "
   ]
  },
  {
   "cell_type": "code",
   "execution_count": null,
   "metadata": {},
   "outputs": [
    {
     "name": "stdout",
     "output_type": "stream",
     "text": [
      "Something is happening before the function is called.\n",
      "Hello!\n",
      "Something is happening after the function is called.\n"
     ]
    }
   ],
   "source": [
    "# 3.2 简单示例\n",
    "def my_decorator(func):\n",
    "    def wrapper():\n",
    "        print(\"Something is happening before the function is called.\")\n",
    "        func()\n",
    "        print(\"Something is happening after the function is called.\")\n",
    "    return wrapper\n",
    "\n",
    "@my_decorator\n",
    "def say_hello():\n",
    "    print(\"Hello!\")\n",
    "\n",
    "say_hello()"
   ]
  },
  {
   "cell_type": "markdown",
   "metadata": {},
   "source": [
    "# 3.3常见的三个错误或误解\n",
    "\n",
    "误解一 ：认为装饰器会修改原始函数的签名。\n",
    "解决方法 ：使用functools.wraps装饰器来保留原始函数的元数据。\n",
    "\n",
    "误解二 ：装饰器只能用于无参数的函数。\n",
    "解决方法 ：学习如何编写支持带参数的装饰器。\n",
    "\n",
    "误解三 ：装饰器只能有一个。\n",
    "解决方法 ：了解多个装饰器的使用方法，从上到下依次执行。"
   ]
  },
  {
   "cell_type": "markdown",
   "metadata": {},
   "source": [
    "# 3.4实际应用场景或举例\n",
    "日志记录 ：\n",
    "\n",
    "```python\n",
    "import logging\n",
    "def log_function_call(func):\n",
    "    def wrapper(*args, **kwargs):\n",
    "        logging.info(f\"Calling {func.__name__} with args {args} and kwargs {kwargs}\")\n",
    "        result = func(*args, ** kwargs)\n",
    "        logging.info(f\"{func.__name__} returned {result}\")\n",
    "        return result\n",
    "    return wrapper\n",
    "\n",
    "@log_function_call\n",
    "def add(a, b):\n",
    "    return a + b\n",
    "add(3, 4)\n",
    "\n",
    "```\n",
    "缓存 ：\n",
    "```python\n",
    "python\n",
    "from functools import lru_cache\n",
    "\n",
    "@lru_cache(maxsize=128)\n",
    "def fibonacci(n):\n",
    "    if n < 2:\n",
    "        return n\n",
    "    return fibonacci(n - 1) + fibonacci(n - 2)\n",
    "\n",
    "print(fibonacci(10))\n",
    "```"
   ]
  },
  {
   "cell_type": "code",
   "execution_count": null,
   "metadata": {},
   "outputs": [
    {
     "name": "stderr",
     "output_type": "stream",
     "text": [
      "INFO:root:Calling add with args (3, 4) and kwargs {}\n",
      "INFO:root:add returned 7\n"
     ]
    },
    {
     "data": {
      "text/plain": [
       "7"
      ]
     },
     "execution_count": 1,
     "metadata": {},
     "output_type": "execute_result"
    }
   ],
   "source": [
    "import logging\n",
    "logging.getLogger().setLevel(logging.DEBUG)#设置输出级别\n",
    "def log_function_call(func):\n",
    "    def wrapper(*args, **kwargs):\n",
    "        logging.info(f\"Calling {func.__name__} with args {args} and kwargs {kwargs}\")\n",
    "        result = func(*args, ** kwargs)\n",
    "        logging.info(f\"{func.__name__} returned {result}\")\n",
    "        return result\n",
    "    return wrapper\n",
    "\n",
    "@log_function_call\n",
    "def add(a, b):\n",
    "    return a + b\n",
    "add(3, 4)"
   ]
  },
  {
   "cell_type": "markdown",
   "metadata": {},
   "source": [
    "# 3.5练习题\n",
    "初级 ：编写一个装饰器，打印函数的执行时间。\n",
    "中级 ：编写一个装饰器，支持带参数的函数，并记录传入的参数。\n",
    "高级 ：编写一个装饰器，实现函数的重试机制，当函数执行失败时自动重试指定次数。"
   ]
  },
  {
   "cell_type": "code",
   "execution_count": 3,
   "metadata": {},
   "outputs": [
    {
     "name": "stdout",
     "output_type": "stream",
     "text": [
      "-1.1004257202148438\n"
     ]
    },
    {
     "data": {
      "text/plain": [
       "109999992"
      ]
     },
     "execution_count": 3,
     "metadata": {},
     "output_type": "execute_result"
    }
   ],
   "source": [
    "import time\n",
    "def print_act_time(func):\n",
    "    def wrapper(*args,**kwargs):\n",
    "        start=time.time()\n",
    "        result=func(*args,**kwargs)\n",
    "        end=time.time()\n",
    "        print(start-end)\n",
    "        return result\n",
    "    return wrapper\n",
    "\n",
    "@print_act_time\n",
    "def add(a, b):\n",
    "    time.sleep(1.0999)\n",
    "    return a + b\n",
    "\n",
    "add(99999999,9999993)"
   ]
  },
  {
   "cell_type": "code",
   "execution_count": 4,
   "metadata": {},
   "outputs": [
    {
     "name": "stdout",
     "output_type": "stream",
     "text": [
      "Calling function example_function with args: (1, 2), kwargs: {'c': 4}\n",
      "Inside function 7\n"
     ]
    }
   ],
   "source": [
    "def log_params_decorator(func):\n",
    "    def wrapper(*args, **kwargs):\n",
    "        print(f\"Calling function {func.__name__} with args: {args}, kwargs: {kwargs}\")\n",
    "        result = func(*args, ** kwargs)\n",
    "        return result\n",
    "    return wrapper\n",
    "\n",
    "@log_params_decorator\n",
    "def example_function(a, b, c=3):\n",
    "    print(f\"Inside function {a + b + c}\")\n",
    "\n",
    "example_function(1, 2, c=4)\n"
   ]
  },
  {
   "cell_type": "code",
   "execution_count": 6,
   "metadata": {},
   "outputs": [
    {
     "name": "stdout",
     "output_type": "stream",
     "text": [
      "Function flaky_function failed with error: Random failure. Retrying...\n",
      "Function flaky_function failed with error: Random failure. Retrying...\n",
      "Function flaky_function failed with error: Random failure. Retrying...\n",
      "Success\n"
     ]
    }
   ],
   "source": [
    "def retry_decorator(max_retries=3):\n",
    "    def decorator(func):\n",
    "        def wrapper(*args, **kwargs):\n",
    "            for _ in range(max_retries):\n",
    "                try:\n",
    "                    return func(*args, ** kwargs)\n",
    "                except Exception as e:\n",
    "                    print(f\"Function {func.__name__} failed with error: {e}. Retrying...\")\n",
    "            print(f\"Function {func.__name__} failed after {max_retries} retries\")\n",
    "        return wrapper\n",
    "    return decorator\n",
    "\n",
    "@retry_decorator(max_retries=5)\n",
    "def flaky_function():\n",
    "    import random\n",
    "    if random.random() < 0.7:\n",
    "        raise ValueError(\"Random failure\")\n",
    "    print(\"Success\")\n",
    "\n",
    "flaky_function()\n"
   ]
  },
  {
   "cell_type": "code",
   "execution_count": 7,
   "metadata": {},
   "outputs": [
    {
     "name": "stdout",
     "output_type": "stream",
     "text": [
      "Decorating class method my_method\n",
      "Method called with 10\n"
     ]
    }
   ],
   "source": [
    "def class_method_decorator(func):\n",
    "    def wrapper(self, *args, **kwargs):\n",
    "        print(f\"Decorating class method {func.__name__}\")\n",
    "        result = func(self, *args, ** kwargs)\n",
    "        return result\n",
    "    return wrapper\n",
    "\n",
    "class MyClass:\n",
    "    @class_method_decorator\n",
    "    def my_method(self, x):\n",
    "        print(f\"Method called with {x}\")\n",
    "\n",
    "obj = MyClass()\n",
    "obj.my_method(10)\n"
   ]
  }
 ],
 "metadata": {
  "kernelspec": {
   "display_name": "base",
   "language": "python",
   "name": "python3"
  },
  "language_info": {
   "codemirror_mode": {
    "name": "ipython",
    "version": 3
   },
   "file_extension": ".py",
   "mimetype": "text/x-python",
   "name": "python",
   "nbconvert_exporter": "python",
   "pygments_lexer": "ipython3",
   "version": "3.11.5"
  }
 },
 "nbformat": 4,
 "nbformat_minor": 2
}
